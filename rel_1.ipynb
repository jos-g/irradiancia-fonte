{
 "cells": [
  {
   "cell_type": "code",
   "execution_count": 13,
   "metadata": {},
   "outputs": [],
   "source": [
    "import numpy as np\n",
    "import pandas as pd\n",
    "import matplotlib as mpl\n",
    "import matplotlib.pyplot as plt\n",
    "import scipy.optimize as opt"
   ]
  },
  {
   "cell_type": "code",
   "execution_count": 14,
   "metadata": {},
   "outputs": [
    {
     "data": {
      "text/html": [
       "<div>\n",
       "<style scoped>\n",
       "    .dataframe tbody tr th:only-of-type {\n",
       "        vertical-align: middle;\n",
       "    }\n",
       "\n",
       "    .dataframe tbody tr th {\n",
       "        vertical-align: top;\n",
       "    }\n",
       "\n",
       "    .dataframe thead th {\n",
       "        text-align: right;\n",
       "    }\n",
       "</style>\n",
       "<table border=\"1\" class=\"dataframe\">\n",
       "  <thead>\n",
       "    <tr style=\"text-align: right;\">\n",
       "      <th></th>\n",
       "      <th></th>\n",
       "      <th>r(cm)</th>\n",
       "      <th>i (µA)</th>\n",
       "    </tr>\n",
       "  </thead>\n",
       "  <tbody>\n",
       "    <tr>\n",
       "      <th>0</th>\n",
       "      <td>NaN</td>\n",
       "      <td>14.2</td>\n",
       "      <td>70.0</td>\n",
       "    </tr>\n",
       "    <tr>\n",
       "      <th>1</th>\n",
       "      <td>NaN</td>\n",
       "      <td>19.2</td>\n",
       "      <td>48.0</td>\n",
       "    </tr>\n",
       "    <tr>\n",
       "      <th>2</th>\n",
       "      <td>NaN</td>\n",
       "      <td>24.2</td>\n",
       "      <td>33.6</td>\n",
       "    </tr>\n",
       "    <tr>\n",
       "      <th>3</th>\n",
       "      <td>NaN</td>\n",
       "      <td>29.2</td>\n",
       "      <td>24.0</td>\n",
       "    </tr>\n",
       "    <tr>\n",
       "      <th>4</th>\n",
       "      <td>NaN</td>\n",
       "      <td>34.2</td>\n",
       "      <td>19.0</td>\n",
       "    </tr>\n",
       "    <tr>\n",
       "      <th>5</th>\n",
       "      <td>NaN</td>\n",
       "      <td>39.2</td>\n",
       "      <td>14.0</td>\n",
       "    </tr>\n",
       "    <tr>\n",
       "      <th>6</th>\n",
       "      <td>NaN</td>\n",
       "      <td>44.2</td>\n",
       "      <td>11.0</td>\n",
       "    </tr>\n",
       "    <tr>\n",
       "      <th>7</th>\n",
       "      <td>NaN</td>\n",
       "      <td>49.2</td>\n",
       "      <td>9.0</td>\n",
       "    </tr>\n",
       "    <tr>\n",
       "      <th>8</th>\n",
       "      <td>NaN</td>\n",
       "      <td>54.2</td>\n",
       "      <td>7.0</td>\n",
       "    </tr>\n",
       "    <tr>\n",
       "      <th>9</th>\n",
       "      <td>NaN</td>\n",
       "      <td>59.2</td>\n",
       "      <td>6.0</td>\n",
       "    </tr>\n",
       "    <tr>\n",
       "      <th>10</th>\n",
       "      <td>NaN</td>\n",
       "      <td>64.2</td>\n",
       "      <td>5.0</td>\n",
       "    </tr>\n",
       "    <tr>\n",
       "      <th>11</th>\n",
       "      <td>NaN</td>\n",
       "      <td>69.2</td>\n",
       "      <td>4.0</td>\n",
       "    </tr>\n",
       "    <tr>\n",
       "      <th>12</th>\n",
       "      <td>NaN</td>\n",
       "      <td>74.2</td>\n",
       "      <td>3.5</td>\n",
       "    </tr>\n",
       "    <tr>\n",
       "      <th>13</th>\n",
       "      <td>NaN</td>\n",
       "      <td>79.2</td>\n",
       "      <td>3.5</td>\n",
       "    </tr>\n",
       "    <tr>\n",
       "      <th>14</th>\n",
       "      <td>NaN</td>\n",
       "      <td>84.2</td>\n",
       "      <td>3.0</td>\n",
       "    </tr>\n",
       "    <tr>\n",
       "      <th>15</th>\n",
       "      <td>NaN</td>\n",
       "      <td>89.2</td>\n",
       "      <td>2.5</td>\n",
       "    </tr>\n",
       "  </tbody>\n",
       "</table>\n",
       "</div>"
      ],
      "text/plain": [
       "            r(cm)  i (µA)\n",
       "0      NaN   14.2    70.0\n",
       "1      NaN   19.2    48.0\n",
       "2      NaN   24.2    33.6\n",
       "3      NaN   29.2    24.0\n",
       "4      NaN   34.2    19.0\n",
       "5      NaN   39.2    14.0\n",
       "6      NaN   44.2    11.0\n",
       "7      NaN   49.2     9.0\n",
       "8      NaN   54.2     7.0\n",
       "9      NaN   59.2     6.0\n",
       "10     NaN   64.2     5.0\n",
       "11     NaN   69.2     4.0\n",
       "12     NaN   74.2     3.5\n",
       "13     NaN   79.2     3.5\n",
       "14     NaN   84.2     3.0\n",
       "15     NaN   89.2     2.5"
      ]
     },
     "execution_count": 14,
     "metadata": {},
     "output_type": "execute_result"
    }
   ],
   "source": [
    "df = pd.read_excel('rel_op.xlsx')\n",
    "df "
   ]
  },
  {
   "attachments": {},
   "cell_type": "markdown",
   "metadata": {},
   "source": [
    "#DADOS (µ = 10**-6 A)"
   ]
  },
  {
   "cell_type": "code",
   "execution_count": 15,
   "metadata": {},
   "outputs": [
    {
     "name": "stdout",
     "output_type": "stream",
     "text": [
      "[14.2 19.2 24.2 29.2 34.2 39.2 44.2 49.2 54.2 59.2 64.2 69.2 74.2 79.2\n",
      " 84.2 89.2]\n",
      "16\n"
     ]
    }
   ],
   "source": [
    "r = np.array(df.iloc[:,1])  #r em cm\n",
    "print(r)\n",
    "print(r.size)"
   ]
  },
  {
   "cell_type": "code",
   "execution_count": 16,
   "metadata": {},
   "outputs": [
    {
     "name": "stdout",
     "output_type": "stream",
     "text": [
      "[70.  48.  33.6 24.  19.  14.  11.   9.   7.   6.   5.   4.   3.5  3.5\n",
      "  3.   2.5]\n"
     ]
    }
   ],
   "source": [
    "i = np.array(df.iloc[:,2]) #i em microampere\n",
    "print(i) "
   ]
  },
  {
   "cell_type": "code",
   "execution_count": 17,
   "metadata": {},
   "outputs": [
    {
     "name": "stdout",
     "output_type": "stream",
     "text": [
      "[14.2 19.2 24.2 29.2 34.2 39.2 44.2 49.2 54.2 59.2 64.2 69.2 74.2 79.2\n",
      " 84.2 89.2]\n",
      "[70.  48.  33.6 24.  19.  14.  11.   9.   7.   6.   5.   4.   3.5  3.5\n",
      "  3.   2.5]\n"
     ]
    }
   ],
   "source": [
    "r_samp = np.reshape(r,-1)\n",
    "i_samp = np.reshape(i,-1)\n",
    "print(r_samp)\n",
    "print(i_samp)"
   ]
  },
  {
   "cell_type": "code",
   "execution_count": 27,
   "metadata": {},
   "outputs": [
    {
     "data": {
      "image/png": "[encoded data removed]",
      "text/plain": [
       "<Figure size 900x540 with 1 Axes>"
      ]
     },
     "metadata": {
      "needs_background": "light"
     },
     "output_type": "display_data"
    }
   ],
   "source": [
    "plt.figure(figsize=(12.5,7.5))\n",
    "plt.plot(r_samp,i_samp,'o', color='red')\n",
    "plt.xlabel(' r(cm)', fontsize=15)\n",
    "plt.grid(True, which='both')\n",
    "plt.ylabel(' i (µA)', fontsize=15)\n",
    "plt.title('Dados coletados em eixos lineares')\n",
    "plt.show()"
   ]
  },
  {
   "cell_type": "code",
   "execution_count": 26,
   "metadata": {},
   "outputs": [
    {
     "data": {
      "image/png": "[encoded data removed]",
      "text/plain": [
       "<Figure size 900x540 with 1 Axes>"
      ]
     },
     "metadata": {
      "needs_background": "light"
     },
     "output_type": "display_data"
    }
   ],
   "source": [
    "plt.figure(figsize=(12.5,7.5))\n",
    "plt.plot(r_samp,i_samp,'o', color='red')\n",
    "plt.yscale('log')\n",
    "plt.grid(True, which='both')\n",
    "plt.xlabel(' r(cm)',fontsize=15)\n",
    "plt.ylabel(' i (µA)',fontsize=15)\n",
    "plt.title('Dados coletados em escala Logaritmica')\n",
    "plt.show()"
   ]
  },
  {
   "cell_type": "code",
   "execution_count": 21,
   "metadata": {},
   "outputs": [],
   "source": [
    "# log i = C + n*log(r)"
   ]
  },
  {
   "cell_type": "code",
   "execution_count": 33,
   "metadata": {},
   "outputs": [
    {
     "name": "stdout",
     "output_type": "stream",
     "text": [
      "n =  -1.879\n",
      "C =  4.10\n",
      "[1.15228834 1.28330123 1.38381537 1.46538285 1.53402611 1.59328607\n",
      " 1.64542227 1.6919651  1.73399929 1.77232171 1.80753503 1.84010609\n",
      " 1.87040391 1.89872518 1.92531209 1.95036485]\n"
     ]
    }
   ],
   "source": [
    "X = np.log10(r)\n",
    "Y = np.log10(i)\n",
    "mod_linear = np.polyfit(X,Y,1)\n",
    "n = float(mod_linear[0])\n",
    "b = float(mod_linear[1])\n",
    "print('n =  {:.3f}'.format(n))\n",
    "print('C =  {:.2f}'.format(b))\n",
    "print(X)"
   ]
  },
  {
   "cell_type": "code",
   "execution_count": 32,
   "metadata": {},
   "outputs": [
    {
     "data": {
      "image/png": "[encoded data removed]",
      "text/plain": [
       "<Figure size 900x540 with 1 Axes>"
      ]
     },
     "metadata": {
      "needs_background": "light"
     },
     "output_type": "display_data"
    }
   ],
   "source": [
    "y_mod = n*X + b \n",
    "plt.figure(figsize=(12.5,7.5))\n",
    "plt.plot(X,Y,\"o\", label='Dados Coletados', color='red')\n",
    "plt.plot(X,y_mod, \"--\", label='Reta Ajustada', color='black')\n",
    "plt.xlabel('$log_{10}$(r)',fontsize=15)\n",
    "plt.grid(True, which='both')\n",
    "plt.ylabel(' $log_{10}$(i)',fontsize=15)\n",
    "plt.title('Ajuste Linear dos dados coletados')\n",
    "plt.legend(bbox_to_anchor = (0.8, 1),loc=2)\n",
    "plt.show()"
   ]
  },
  {
   "cell_type": "code",
   "execution_count": 24,
   "metadata": {},
   "outputs": [
    {
     "name": "stdout",
     "output_type": "stream",
     "text": [
      "coeficiente de determinação do ajuste é 0.993\n"
     ]
    }
   ],
   "source": [
    "yresid = Y - y_mod\n",
    "SQresid = sum(yresid**2)\n",
    "y_tot = Y- np.mean(Y)\n",
    "SQtotal = sum(y_tot**2)\n",
    "R2 = 1 - SQresid/SQtotal\n",
    "print ('coeficiente de determinação do ajuste é {}'.format(np.round(R2,3)))"
   ]
  }
 ],
 "metadata": {
  "kernelspec": {
   "display_name": "Python 3",
   "language": "python",
   "name": "python3"
  },
  "language_info": {
   "codemirror_mode": {
    "name": "ipython",
    "version": 3
   },
   "file_extension": ".py",
   "mimetype": "text/x-python",
   "name": "python",
   "nbconvert_exporter": "python",
   "pygments_lexer": "ipython3",
   "version": "3.10.2"
  },
  "orig_nbformat": 4
 },
 "nbformat": 4,
 "nbformat_minor": 2
}
